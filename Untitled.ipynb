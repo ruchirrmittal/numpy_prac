{
 "cells": [
  {
   "cell_type": "code",
   "execution_count": 1,
   "id": "d7495b97-9c31-4ee3-a5cc-24f6796036fb",
   "metadata": {},
   "outputs": [],
   "source": [
    "import os"
   ]
  },
  {
   "cell_type": "code",
   "execution_count": 2,
   "id": "ed19e1ea-d260-455f-9cc6-06a9e7cd60ae",
   "metadata": {},
   "outputs": [
    {
     "data": {
      "text/plain": [
       "'C:\\\\Users\\\\Hewlett-Packard\\\\Desktop\\\\New folder\\\\data_analysis\\\\Numpy'"
      ]
     },
     "execution_count": 2,
     "metadata": {},
     "output_type": "execute_result"
    }
   ],
   "source": [
    "os.getcwd()"
   ]
  },
  {
   "cell_type": "code",
   "execution_count": 3,
   "id": "54bae91c-f959-4129-bf12-fd0b2b891f6b",
   "metadata": {},
   "outputs": [
    {
     "data": {
      "text/plain": [
       "['.ipynb_checkpoints',\n",
       " '100_Numpy_exercises_with_hints_with_solutions.md',\n",
       " 'climate.txt',\n",
       " 'climate_yields.txt',\n",
       " 'firstlesson.ipynb',\n",
       " 'firstlesson.pdf',\n",
       " 'Untitled.ipynb']"
      ]
     },
     "execution_count": 3,
     "metadata": {},
     "output_type": "execute_result"
    }
   ],
   "source": [
    "os.listdir()"
   ]
  },
  {
   "cell_type": "code",
   "execution_count": 5,
   "id": "13d7d58a-081c-4a31-95cb-85c56bccdc41",
   "metadata": {},
   "outputs": [],
   "source": [
    "os.makedirs('/try',exist_ok=True)"
   ]
  },
  {
   "cell_type": "code",
   "execution_count": 6,
   "id": "22e53cfd-d525-499a-96bd-0e09bb59b0dc",
   "metadata": {},
   "outputs": [
    {
     "data": {
      "text/plain": [
       "['.ipynb_checkpoints',\n",
       " '100_Numpy_exercises_with_hints_with_solutions.md',\n",
       " 'climate.txt',\n",
       " 'climate_yields.txt',\n",
       " 'firstlesson.ipynb',\n",
       " 'firstlesson.pdf',\n",
       " 'Untitled.ipynb']"
      ]
     },
     "execution_count": 6,
     "metadata": {},
     "output_type": "execute_result"
    }
   ],
   "source": [
    "os.listdir()"
   ]
  },
  {
   "cell_type": "code",
   "execution_count": 7,
   "id": "a6f5407f-e75a-4a6a-b365-005ee086c724",
   "metadata": {},
   "outputs": [],
   "source": [
    "os.makedirs('./try',exist_ok=True)"
   ]
  },
  {
   "cell_type": "code",
   "execution_count": 8,
   "id": "c5d3b927-2c76-44ef-8428-8e43825191eb",
   "metadata": {},
   "outputs": [
    {
     "data": {
      "text/plain": [
       "True"
      ]
     },
     "execution_count": 8,
     "metadata": {},
     "output_type": "execute_result"
    }
   ],
   "source": [
    "'try' in os.listdir()"
   ]
  },
  {
   "cell_type": "code",
   "execution_count": 9,
   "id": "6a12413b-f1ff-4df6-b220-b02f968d8c18",
   "metadata": {},
   "outputs": [],
   "source": [
    "url1 = 'https://gist.githubusercontent.com/aakashns/257f6e6c8719c17d0e498ea287d1a386/raw/7def9ef4234ddf0bc82f855ad67dac8b971852ef/loans1.txt'\n",
    "url2 = 'https://gist.githubusercontent.com/aakashns/257f6e6c8719c17d0e498ea287d1a386/raw/7def9ef4234ddf0bc82f855ad67dac8b971852ef/loans2.txt'\n",
    "url3 = 'https://gist.githubusercontent.com/aakashns/257f6e6c8719c17d0e498ea287d1a386/raw/7def9ef4234ddf0bc82f855ad67dac8b971852ef/loans3.txt'"
   ]
  },
  {
   "cell_type": "code",
   "execution_count": 10,
   "id": "7d9718ca-ff5e-4ef0-bfc6-3845c8ec31dc",
   "metadata": {},
   "outputs": [],
   "source": [
    "import urllib.request"
   ]
  },
  {
   "cell_type": "code",
   "execution_count": 11,
   "id": "c7bec034-ee46-4aa5-84f2-bbf09fc8c1d8",
   "metadata": {},
   "outputs": [
    {
     "ename": "ModuleNotFoundError",
     "evalue": "No module named 'urlretrieve'",
     "output_type": "error",
     "traceback": [
      "\u001b[1;31m---------------------------------------------------------------------------\u001b[0m",
      "\u001b[1;31mModuleNotFoundError\u001b[0m                       Traceback (most recent call last)",
      "Cell \u001b[1;32mIn[11], line 1\u001b[0m\n\u001b[1;32m----> 1\u001b[0m \u001b[38;5;28;01mimport\u001b[39;00m \u001b[38;5;21;01murlretrieve\u001b[39;00m\n",
      "\u001b[1;31mModuleNotFoundError\u001b[0m: No module named 'urlretrieve'"
     ]
    }
   ],
   "source": [
    "import urlretrieve"
   ]
  },
  {
   "cell_type": "code",
   "execution_count": 12,
   "id": "20ce6b83-9951-43ae-be38-b92adf5132d9",
   "metadata": {},
   "outputs": [],
   "source": [
    "from urllib.request import urlretrieve"
   ]
  },
  {
   "cell_type": "code",
   "execution_count": 13,
   "id": "93cc0872-f680-44d3-9bd5-36ead9e9be6e",
   "metadata": {},
   "outputs": [
    {
     "data": {
      "text/plain": [
       "('./try/loans1.txt', <http.client.HTTPMessage at 0x2759c901bd0>)"
      ]
     },
     "execution_count": 13,
     "metadata": {},
     "output_type": "execute_result"
    }
   ],
   "source": [
    "urlretrieve(url1,'./try/loans1.txt')"
   ]
  },
  {
   "cell_type": "code",
   "execution_count": 14,
   "id": "d88f3e52-4c5b-47f9-b608-1de3661f4560",
   "metadata": {},
   "outputs": [
    {
     "data": {
      "text/plain": [
       "('./try/loans2.txt', <http.client.HTTPMessage at 0x2759c902a10>)"
      ]
     },
     "execution_count": 14,
     "metadata": {},
     "output_type": "execute_result"
    }
   ],
   "source": [
    "urlretrieve(url2,'./try/loans2.txt')"
   ]
  },
  {
   "cell_type": "code",
   "execution_count": 15,
   "id": "83b39ba2-ae12-4dc1-bdf5-139968f8f123",
   "metadata": {},
   "outputs": [
    {
     "data": {
      "text/plain": [
       "('./try/loans3.txt', <http.client.HTTPMessage at 0x2759c308310>)"
      ]
     },
     "execution_count": 15,
     "metadata": {},
     "output_type": "execute_result"
    }
   ],
   "source": [
    "urlretrieve(url3,'./try/loans3.txt')"
   ]
  },
  {
   "cell_type": "code",
   "execution_count": 16,
   "id": "bc8c54ac-38a8-4b3e-aaa2-d3a721a6fbc9",
   "metadata": {},
   "outputs": [
    {
     "data": {
      "text/plain": [
       "['loans1.txt', 'loans2.txt', 'loans3.txt']"
      ]
     },
     "execution_count": 16,
     "metadata": {},
     "output_type": "execute_result"
    }
   ],
   "source": [
    "os.listdir('./try/')"
   ]
  },
  {
   "cell_type": "code",
   "execution_count": 17,
   "id": "b67d5f0f-8a50-45a3-bcf2-ab67a6ca0f33",
   "metadata": {},
   "outputs": [],
   "source": [
    "file1=open('./try/loans1.txt',mode='r')"
   ]
  },
  {
   "cell_type": "code",
   "execution_count": 18,
   "id": "c728bae6-7d27-4ed4-a5e7-42d02810f00c",
   "metadata": {},
   "outputs": [
    {
     "data": {
      "text/plain": [
       "<_io.TextIOWrapper name='./try/loans1.txt' mode='r' encoding='cp1252'>"
      ]
     },
     "execution_count": 18,
     "metadata": {},
     "output_type": "execute_result"
    }
   ],
   "source": [
    "file1"
   ]
  },
  {
   "cell_type": "code",
   "execution_count": 19,
   "id": "0be07eb6-e62c-403a-bcaf-9e943a6c6bf4",
   "metadata": {},
   "outputs": [
    {
     "name": "stdout",
     "output_type": "stream",
     "text": [
      "amount,duration,rate,down_payment\n",
      "100000,36,0.08,20000\n",
      "200000,12,0.1,\n",
      "628400,120,0.12,100000\n",
      "4637400,240,0.06,\n",
      "42900,90,0.07,8900\n",
      "916000,16,0.13,\n",
      "45230,48,0.08,4300\n",
      "991360,99,0.08,\n",
      "423000,27,0.09,47200\n"
     ]
    }
   ],
   "source": [
    "file1_c=file1.read()\n",
    "print(file1_c)"
   ]
  },
  {
   "cell_type": "code",
   "execution_count": 20,
   "id": "462e9c4e-7df4-4450-b07f-d52558bf86a9",
   "metadata": {},
   "outputs": [],
   "source": [
    "file1.close()"
   ]
  },
  {
   "cell_type": "code",
   "execution_count": 21,
   "id": "ef6e9124-4534-4ce0-be09-0742c06972a2",
   "metadata": {},
   "outputs": [
    {
     "name": "stdout",
     "output_type": "stream",
     "text": [
      "amount,duration,rate,down_payment\n",
      "828400,120,0.11,100000\n",
      "4633400,240,0.06,\n",
      "42900,90,0.08,8900\n",
      "983000,16,0.14,\n",
      "15230,48,0.07,4300\n"
     ]
    }
   ],
   "source": [
    "with open('./try/loans2.txt',mode='r') as file2:\n",
    "    file2_c=file2.read()\n",
    "    print(file2_c)"
   ]
  },
  {
   "cell_type": "code",
   "execution_count": 26,
   "id": "34a4a6f5-a610-4edf-a442-9cf33f706959",
   "metadata": {},
   "outputs": [
    {
     "name": "stdout",
     "output_type": "stream",
     "text": [
      "['amount,duration,rate,down_payment\\n', '828400,120,0.11,100000\\n', '4633400,240,0.06,\\n', '42900,90,0.08,8900\\n', '983000,16,0.14,\\n', '15230,48,0.07,4300']\n"
     ]
    }
   ],
   "source": [
    "with open('./try/loans2.txt',mode='r') as file2:\n",
    "    file2_c=file2.readlines()\n",
    "    print(file2_c)"
   ]
  },
  {
   "cell_type": "code",
   "execution_count": 27,
   "id": "a17688fc-7656-45b7-99b5-d1a9013a5d6b",
   "metadata": {},
   "outputs": [
    {
     "name": "stdout",
     "output_type": "stream",
     "text": [
      "amount,duration,rate,down_payment\n",
      "\n",
      "828400,120,0.11,100000\n",
      "\n",
      "4633400,240,0.06,\n",
      "\n",
      "42900,90,0.08,8900\n",
      "\n",
      "983000,16,0.14,\n",
      "\n",
      "15230,48,0.07,4300\n"
     ]
    }
   ],
   "source": [
    "for item in file2_c:\n",
    "    print(item)"
   ]
  },
  {
   "cell_type": "code",
   "execution_count": 28,
   "id": "8a75962f-d1bf-462a-b18f-fe668835d924",
   "metadata": {},
   "outputs": [
    {
     "data": {
      "text/plain": [
       "'amount,duration,rate,down_payment\\n'"
      ]
     },
     "execution_count": 28,
     "metadata": {},
     "output_type": "execute_result"
    }
   ],
   "source": [
    "file2_c[0]"
   ]
  },
  {
   "cell_type": "code",
   "execution_count": 29,
   "id": "02acaf0b-fce9-47db-b2fd-587c3ea225ee",
   "metadata": {},
   "outputs": [
    {
     "data": {
      "text/plain": [
       "'amount,duration,rate,down_payment'"
      ]
     },
     "execution_count": 29,
     "metadata": {},
     "output_type": "execute_result"
    }
   ],
   "source": [
    "file2_c[0].strip()"
   ]
  },
  {
   "cell_type": "code",
   "execution_count": 38,
   "id": "1fc58405-aff0-4844-944a-c4b4b9eb67ba",
   "metadata": {},
   "outputs": [],
   "source": [
    "def headpar(header_line):\n",
    "    return header_line.strip().split(',')"
   ]
  },
  {
   "cell_type": "code",
   "execution_count": 39,
   "id": "630aaeb2-cbbc-45c8-8d1f-96a3ce3961da",
   "metadata": {},
   "outputs": [],
   "source": [
    "header=headpar(file2_c[0])"
   ]
  },
  {
   "cell_type": "code",
   "execution_count": 40,
   "id": "1e66c29e-5c7d-4b40-a974-d9e588033712",
   "metadata": {},
   "outputs": [
    {
     "data": {
      "text/plain": [
       "['amount', 'duration', 'rate', 'down_payment']"
      ]
     },
     "execution_count": 40,
     "metadata": {},
     "output_type": "execute_result"
    }
   ],
   "source": [
    "header"
   ]
  },
  {
   "cell_type": "code",
   "execution_count": 47,
   "id": "cc9dddcc-a4db-4cfe-a609-e693cd8d9db1",
   "metadata": {},
   "outputs": [],
   "source": [
    "def parseval(data_line):\n",
    "    values=[]\n",
    "    for item in data_line.strip().split(','):\n",
    "        if item==\"\":\n",
    "            values.append(0.0)\n",
    "        else:   \n",
    "            values.append(float(item))\n",
    "    return values\n",
    "                                    "
   ]
  },
  {
   "cell_type": "code",
   "execution_count": 44,
   "id": "7c58e14e-1454-4290-8465-7083ff369b88",
   "metadata": {},
   "outputs": [
    {
     "data": {
      "text/plain": [
       "[828400.0, 120.0, 0.11, 100000.0]"
      ]
     },
     "execution_count": 44,
     "metadata": {},
     "output_type": "execute_result"
    }
   ],
   "source": [
    "parseval(file2_c[1])"
   ]
  },
  {
   "cell_type": "code",
   "execution_count": 48,
   "id": "cd8a0fca-31e6-464c-ae5f-65ef0cf03e67",
   "metadata": {},
   "outputs": [
    {
     "data": {
      "text/plain": [
       "[4633400.0, 240.0, 0.06, 0.0]"
      ]
     },
     "execution_count": 48,
     "metadata": {},
     "output_type": "execute_result"
    }
   ],
   "source": [
    "parseval(file2_c[2])"
   ]
  },
  {
   "cell_type": "code",
   "execution_count": 51,
   "id": "d80c1649-3ca4-4a6c-a56d-33d6d0ff4a9b",
   "metadata": {},
   "outputs": [
    {
     "name": "stdout",
     "output_type": "stream",
     "text": [
      "[828400.0, 120.0, 0.11, 100000.0]\n",
      "[4633400.0, 240.0, 0.06, 0.0]\n",
      "[42900.0, 90.0, 0.08, 8900.0]\n",
      "[983000.0, 16.0, 0.14, 0.0]\n",
      "[15230.0, 48.0, 0.07, 4300.0]\n"
     ]
    }
   ],
   "source": [
    "for i in range(1,len(file2_c)):\n",
    "    print(parseval(file2_c[i]))"
   ]
  },
  {
   "cell_type": "code",
   "execution_count": 50,
   "id": "86a4f483-1cff-47fc-96de-db7792f63453",
   "metadata": {},
   "outputs": [
    {
     "data": {
      "text/plain": [
       "['amount,duration,rate,down_payment\\n',\n",
       " '828400,120,0.11,100000\\n',\n",
       " '4633400,240,0.06,\\n',\n",
       " '42900,90,0.08,8900\\n',\n",
       " '983000,16,0.14,\\n',\n",
       " '15230,48,0.07,4300']"
      ]
     },
     "execution_count": 50,
     "metadata": {},
     "output_type": "execute_result"
    }
   ],
   "source": [
    "file2_c"
   ]
  },
  {
   "cell_type": "code",
   "execution_count": 52,
   "id": "fc78fc11-c2ae-4523-a700-a4c32f289715",
   "metadata": {},
   "outputs": [
    {
     "data": {
      "text/plain": [
       "['.git',\n",
       " '.ipynb_checkpoints',\n",
       " '100_Numpy_exercises_with_hints_with_solutions.md',\n",
       " 'climate.txt',\n",
       " 'climate_yields.txt',\n",
       " 'firstlesson.ipynb',\n",
       " 'firstlesson.pdf',\n",
       " 'try',\n",
       " 'Untitled.ipynb']"
      ]
     },
     "execution_count": 52,
     "metadata": {},
     "output_type": "execute_result"
    }
   ],
   "source": [
    "os.listdir()"
   ]
  },
  {
   "cell_type": "code",
   "execution_count": 53,
   "id": "a85c36d2-a9c8-46a6-abbb-a4c020d90969",
   "metadata": {},
   "outputs": [],
   "source": [
    "def create_item_dict(values, headers):\n",
    "    result = {}\n",
    "    for value, header in zip(values, headers):\n",
    "        result[header] = value\n",
    "    return result"
   ]
  },
  {
   "cell_type": "code",
   "execution_count": 54,
   "id": "a3c7323d-288a-4f9c-b3da-9d1fb6ad23ce",
   "metadata": {},
   "outputs": [],
   "source": [
    "value1=parseval(file2_c[1])"
   ]
  },
  {
   "cell_type": "code",
   "execution_count": 56,
   "id": "848cbdf7-ed04-4aab-baaa-3aa98bea4b54",
   "metadata": {},
   "outputs": [
    {
     "data": {
      "text/plain": [
       "{'amount': 828400.0, 'duration': 120.0, 'rate': 0.11, 'down_payment': 100000.0}"
      ]
     },
     "execution_count": 56,
     "metadata": {},
     "output_type": "execute_result"
    }
   ],
   "source": [
    "create_item_dict(value1,header)"
   ]
  },
  {
   "cell_type": "code",
   "execution_count": 63,
   "id": "5b586057-4af8-4621-aa5c-afa5d165de39",
   "metadata": {},
   "outputs": [],
   "source": [
    "def read_csv(path):\n",
    "    result=[]\n",
    "    with open(path,mode='r') as file:\n",
    "        file_l=file.readlines()\n",
    "        headers=headpar(file_l[0])\n",
    "        for i in file_l[1:]:\n",
    "            value=parseval(i)\n",
    "            item_dict=create_item_dict(value,headers)\n",
    "            result.append(item_dict)\n",
    "    return result   \n",
    "            "
   ]
  },
  {
   "cell_type": "code",
   "execution_count": 65,
   "id": "d8994a33-6826-4a69-93bf-8c317029c9c4",
   "metadata": {},
   "outputs": [
    {
     "data": {
      "text/plain": [
       "[{'amount': 828400.0,\n",
       "  'duration': 120.0,\n",
       "  'rate': 0.11,\n",
       "  'down_payment': 100000.0},\n",
       " {'amount': 4633400.0, 'duration': 240.0, 'rate': 0.06, 'down_payment': 0.0},\n",
       " {'amount': 42900.0, 'duration': 90.0, 'rate': 0.08, 'down_payment': 8900.0},\n",
       " {'amount': 983000.0, 'duration': 16.0, 'rate': 0.14, 'down_payment': 0.0},\n",
       " {'amount': 15230.0, 'duration': 48.0, 'rate': 0.07, 'down_payment': 4300.0}]"
      ]
     },
     "execution_count": 65,
     "metadata": {},
     "output_type": "execute_result"
    }
   ],
   "source": [
    "read_csv('./try/loans2.txt')"
   ]
  },
  {
   "cell_type": "code",
   "execution_count": null,
   "id": "6b009de2-ad18-4ce1-9a02-907849563e89",
   "metadata": {},
   "outputs": [],
   "source": []
  }
 ],
 "metadata": {
  "kernelspec": {
   "display_name": "Python 3 (ipykernel)",
   "language": "python",
   "name": "python3"
  },
  "language_info": {
   "codemirror_mode": {
    "name": "ipython",
    "version": 3
   },
   "file_extension": ".py",
   "mimetype": "text/x-python",
   "name": "python",
   "nbconvert_exporter": "python",
   "pygments_lexer": "ipython3",
   "version": "3.11.3"
  }
 },
 "nbformat": 4,
 "nbformat_minor": 5
}
