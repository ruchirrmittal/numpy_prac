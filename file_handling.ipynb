{
 "cells": [
  {
   "cell_type": "code",
   "execution_count": 1,
   "id": "d7495b97-9c31-4ee3-a5cc-24f6796036fb",
   "metadata": {},
   "outputs": [],
   "source": [
    "import os"
   ]
  },
  {
   "cell_type": "code",
   "execution_count": 2,
   "id": "ed19e1ea-d260-455f-9cc6-06a9e7cd60ae",
   "metadata": {},
   "outputs": [
    {
     "data": {
      "text/plain": [
       "'C:\\\\Users\\\\Hewlett-Packard\\\\Desktop\\\\New folder\\\\data_analysis\\\\Numpy'"
      ]
     },
     "execution_count": 2,
     "metadata": {},
     "output_type": "execute_result"
    }
   ],
   "source": [
    "os.getcwd()"
   ]
  },
  {
   "cell_type": "code",
   "execution_count": 3,
   "id": "54bae91c-f959-4129-bf12-fd0b2b891f6b",
   "metadata": {},
   "outputs": [
    {
     "data": {
      "text/plain": [
       "['.ipynb_checkpoints',\n",
       " '100_Numpy_exercises_with_hints_with_solutions.md',\n",
       " 'climate.txt',\n",
       " 'climate_yields.txt',\n",
       " 'firstlesson.ipynb',\n",
       " 'firstlesson.pdf',\n",
       " 'Untitled.ipynb']"
      ]
     },
     "execution_count": 3,
     "metadata": {},
     "output_type": "execute_result"
    }
   ],
   "source": [
    "os.listdir()"
   ]
  },
  {
   "cell_type": "code",
   "execution_count": 5,
   "id": "13d7d58a-081c-4a31-95cb-85c56bccdc41",
   "metadata": {},
   "outputs": [],
   "source": [
    "os.makedirs('/try',exist_ok=True)"
   ]
  },
  {
   "cell_type": "code",
   "execution_count": 6,
   "id": "22e53cfd-d525-499a-96bd-0e09bb59b0dc",
   "metadata": {},
   "outputs": [
    {
     "data": {
      "text/plain": [
       "['.ipynb_checkpoints',\n",
       " '100_Numpy_exercises_with_hints_with_solutions.md',\n",
       " 'climate.txt',\n",
       " 'climate_yields.txt',\n",
       " 'firstlesson.ipynb',\n",
       " 'firstlesson.pdf',\n",
       " 'Untitled.ipynb']"
      ]
     },
     "execution_count": 6,
     "metadata": {},
     "output_type": "execute_result"
    }
   ],
   "source": [
    "os.listdir()"
   ]
  },
  {
   "cell_type": "code",
   "execution_count": 7,
   "id": "a6f5407f-e75a-4a6a-b365-005ee086c724",
   "metadata": {},
   "outputs": [],
   "source": [
    "os.makedirs('./try',exist_ok=True)"
   ]
  },
  {
   "cell_type": "code",
   "execution_count": 8,
   "id": "c5d3b927-2c76-44ef-8428-8e43825191eb",
   "metadata": {},
   "outputs": [
    {
     "data": {
      "text/plain": [
       "True"
      ]
     },
     "execution_count": 8,
     "metadata": {},
     "output_type": "execute_result"
    }
   ],
   "source": [
    "'try' in os.listdir()"
   ]
  },
  {
   "cell_type": "code",
   "execution_count": 9,
   "id": "6a12413b-f1ff-4df6-b220-b02f968d8c18",
   "metadata": {},
   "outputs": [],
   "source": [
    "url1 = 'https://gist.githubusercontent.com/aakashns/257f6e6c8719c17d0e498ea287d1a386/raw/7def9ef4234ddf0bc82f855ad67dac8b971852ef/loans1.txt'\n",
    "url2 = 'https://gist.githubusercontent.com/aakashns/257f6e6c8719c17d0e498ea287d1a386/raw/7def9ef4234ddf0bc82f855ad67dac8b971852ef/loans2.txt'\n",
    "url3 = 'https://gist.githubusercontent.com/aakashns/257f6e6c8719c17d0e498ea287d1a386/raw/7def9ef4234ddf0bc82f855ad67dac8b971852ef/loans3.txt'"
   ]
  },
  {
   "cell_type": "code",
   "execution_count": 10,
   "id": "7d9718ca-ff5e-4ef0-bfc6-3845c8ec31dc",
   "metadata": {},
   "outputs": [],
   "source": [
    "import urllib.request"
   ]
  },
  {
   "cell_type": "code",
   "execution_count": 11,
   "id": "c7bec034-ee46-4aa5-84f2-bbf09fc8c1d8",
   "metadata": {},
   "outputs": [
    {
     "ename": "ModuleNotFoundError",
     "evalue": "No module named 'urlretrieve'",
     "output_type": "error",
     "traceback": [
      "\u001b[1;31m---------------------------------------------------------------------------\u001b[0m",
      "\u001b[1;31mModuleNotFoundError\u001b[0m                       Traceback (most recent call last)",
      "Cell \u001b[1;32mIn[11], line 1\u001b[0m\n\u001b[1;32m----> 1\u001b[0m \u001b[38;5;28;01mimport\u001b[39;00m \u001b[38;5;21;01murlretrieve\u001b[39;00m\n",
      "\u001b[1;31mModuleNotFoundError\u001b[0m: No module named 'urlretrieve'"
     ]
    }
   ],
   "source": [
    "import urlretrieve"
   ]
  },
  {
   "cell_type": "code",
   "execution_count": 12,
   "id": "20ce6b83-9951-43ae-be38-b92adf5132d9",
   "metadata": {},
   "outputs": [],
   "source": [
    "from urllib.request import urlretrieve"
   ]
  },
  {
   "cell_type": "code",
   "execution_count": 13,
   "id": "93cc0872-f680-44d3-9bd5-36ead9e9be6e",
   "metadata": {},
   "outputs": [
    {
     "data": {
      "text/plain": [
       "('./try/loans1.txt', <http.client.HTTPMessage at 0x2759c901bd0>)"
      ]
     },
     "execution_count": 13,
     "metadata": {},
     "output_type": "execute_result"
    }
   ],
   "source": [
    "urlretrieve(url1,'./try/loans1.txt')"
   ]
  },
  {
   "cell_type": "code",
   "execution_count": 14,
   "id": "d88f3e52-4c5b-47f9-b608-1de3661f4560",
   "metadata": {},
   "outputs": [
    {
     "data": {
      "text/plain": [
       "('./try/loans2.txt', <http.client.HTTPMessage at 0x2759c902a10>)"
      ]
     },
     "execution_count": 14,
     "metadata": {},
     "output_type": "execute_result"
    }
   ],
   "source": [
    "urlretrieve(url2,'./try/loans2.txt')"
   ]
  },
  {
   "cell_type": "code",
   "execution_count": 15,
   "id": "83b39ba2-ae12-4dc1-bdf5-139968f8f123",
   "metadata": {},
   "outputs": [
    {
     "data": {
      "text/plain": [
       "('./try/loans3.txt', <http.client.HTTPMessage at 0x2759c308310>)"
      ]
     },
     "execution_count": 15,
     "metadata": {},
     "output_type": "execute_result"
    }
   ],
   "source": [
    "urlretrieve(url3,'./try/loans3.txt')"
   ]
  },
  {
   "cell_type": "code",
   "execution_count": 16,
   "id": "bc8c54ac-38a8-4b3e-aaa2-d3a721a6fbc9",
   "metadata": {},
   "outputs": [
    {
     "data": {
      "text/plain": [
       "['loans1.txt', 'loans2.txt', 'loans3.txt']"
      ]
     },
     "execution_count": 16,
     "metadata": {},
     "output_type": "execute_result"
    }
   ],
   "source": [
    "os.listdir('./try/')"
   ]
  },
  {
   "cell_type": "code",
   "execution_count": 17,
   "id": "b67d5f0f-8a50-45a3-bcf2-ab67a6ca0f33",
   "metadata": {},
   "outputs": [],
   "source": [
    "file1=open('./try/loans1.txt',mode='r')"
   ]
  },
  {
   "cell_type": "code",
   "execution_count": 18,
   "id": "c728bae6-7d27-4ed4-a5e7-42d02810f00c",
   "metadata": {},
   "outputs": [
    {
     "data": {
      "text/plain": [
       "<_io.TextIOWrapper name='./try/loans1.txt' mode='r' encoding='cp1252'>"
      ]
     },
     "execution_count": 18,
     "metadata": {},
     "output_type": "execute_result"
    }
   ],
   "source": [
    "file1"
   ]
  },
  {
   "cell_type": "code",
   "execution_count": 19,
   "id": "0be07eb6-e62c-403a-bcaf-9e943a6c6bf4",
   "metadata": {},
   "outputs": [
    {
     "name": "stdout",
     "output_type": "stream",
     "text": [
      "amount,duration,rate,down_payment\n",
      "100000,36,0.08,20000\n",
      "200000,12,0.1,\n",
      "628400,120,0.12,100000\n",
      "4637400,240,0.06,\n",
      "42900,90,0.07,8900\n",
      "916000,16,0.13,\n",
      "45230,48,0.08,4300\n",
      "991360,99,0.08,\n",
      "423000,27,0.09,47200\n"
     ]
    }
   ],
   "source": [
    "file1_c=file1.read()\n",
    "print(file1_c)"
   ]
  },
  {
   "cell_type": "code",
   "execution_count": 20,
   "id": "462e9c4e-7df4-4450-b07f-d52558bf86a9",
   "metadata": {},
   "outputs": [],
   "source": [
    "file1.close()"
   ]
  },
  {
   "cell_type": "code",
   "execution_count": 21,
   "id": "ef6e9124-4534-4ce0-be09-0742c06972a2",
   "metadata": {},
   "outputs": [
    {
     "name": "stdout",
     "output_type": "stream",
     "text": [
      "amount,duration,rate,down_payment\n",
      "828400,120,0.11,100000\n",
      "4633400,240,0.06,\n",
      "42900,90,0.08,8900\n",
      "983000,16,0.14,\n",
      "15230,48,0.07,4300\n"
     ]
    }
   ],
   "source": [
    "with open('./try/loans2.txt',mode='r') as file2:\n",
    "    file2_c=file2.read()\n",
    "    print(file2_c)"
   ]
  },
  {
   "cell_type": "code",
   "execution_count": 26,
   "id": "34a4a6f5-a610-4edf-a442-9cf33f706959",
   "metadata": {},
   "outputs": [
    {
     "name": "stdout",
     "output_type": "stream",
     "text": [
      "['amount,duration,rate,down_payment\\n', '828400,120,0.11,100000\\n', '4633400,240,0.06,\\n', '42900,90,0.08,8900\\n', '983000,16,0.14,\\n', '15230,48,0.07,4300']\n"
     ]
    }
   ],
   "source": [
    "with open('./try/loans2.txt',mode='r') as file2:\n",
    "    file2_c=file2.readlines()\n",
    "    print(file2_c)"
   ]
  },
  {
   "cell_type": "code",
   "execution_count": 27,
   "id": "a17688fc-7656-45b7-99b5-d1a9013a5d6b",
   "metadata": {},
   "outputs": [
    {
     "name": "stdout",
     "output_type": "stream",
     "text": [
      "amount,duration,rate,down_payment\n",
      "\n",
      "828400,120,0.11,100000\n",
      "\n",
      "4633400,240,0.06,\n",
      "\n",
      "42900,90,0.08,8900\n",
      "\n",
      "983000,16,0.14,\n",
      "\n",
      "15230,48,0.07,4300\n"
     ]
    }
   ],
   "source": [
    "for item in file2_c:\n",
    "    print(item)"
   ]
  },
  {
   "cell_type": "code",
   "execution_count": 28,
   "id": "8a75962f-d1bf-462a-b18f-fe668835d924",
   "metadata": {},
   "outputs": [
    {
     "data": {
      "text/plain": [
       "'amount,duration,rate,down_payment\\n'"
      ]
     },
     "execution_count": 28,
     "metadata": {},
     "output_type": "execute_result"
    }
   ],
   "source": [
    "file2_c[0]"
   ]
  },
  {
   "cell_type": "code",
   "execution_count": 29,
   "id": "02acaf0b-fce9-47db-b2fd-587c3ea225ee",
   "metadata": {},
   "outputs": [
    {
     "data": {
      "text/plain": [
       "'amount,duration,rate,down_payment'"
      ]
     },
     "execution_count": 29,
     "metadata": {},
     "output_type": "execute_result"
    }
   ],
   "source": [
    "file2_c[0].strip()"
   ]
  },
  {
   "cell_type": "code",
   "execution_count": 38,
   "id": "1fc58405-aff0-4844-944a-c4b4b9eb67ba",
   "metadata": {},
   "outputs": [],
   "source": [
    "def headpar(header_line):\n",
    "    return header_line.strip().split(',')"
   ]
  },
  {
   "cell_type": "code",
   "execution_count": 39,
   "id": "630aaeb2-cbbc-45c8-8d1f-96a3ce3961da",
   "metadata": {},
   "outputs": [],
   "source": [
    "header=headpar(file2_c[0])"
   ]
  },
  {
   "cell_type": "code",
   "execution_count": 40,
   "id": "1e66c29e-5c7d-4b40-a974-d9e588033712",
   "metadata": {},
   "outputs": [
    {
     "data": {
      "text/plain": [
       "['amount', 'duration', 'rate', 'down_payment']"
      ]
     },
     "execution_count": 40,
     "metadata": {},
     "output_type": "execute_result"
    }
   ],
   "source": [
    "header"
   ]
  },
  {
   "cell_type": "code",
   "execution_count": 47,
   "id": "cc9dddcc-a4db-4cfe-a609-e693cd8d9db1",
   "metadata": {},
   "outputs": [],
   "source": [
    "def parseval(data_line):\n",
    "    values=[]\n",
    "    for item in data_line.strip().split(','):\n",
    "        if item==\"\":\n",
    "            values.append(0.0)\n",
    "        else:   \n",
    "            values.append(float(item))\n",
    "    return values\n",
    "                                    "
   ]
  },
  {
   "cell_type": "code",
   "execution_count": 44,
   "id": "7c58e14e-1454-4290-8465-7083ff369b88",
   "metadata": {},
   "outputs": [
    {
     "data": {
      "text/plain": [
       "[828400.0, 120.0, 0.11, 100000.0]"
      ]
     },
     "execution_count": 44,
     "metadata": {},
     "output_type": "execute_result"
    }
   ],
   "source": [
    "parseval(file2_c[1])"
   ]
  },
  {
   "cell_type": "code",
   "execution_count": 48,
   "id": "cd8a0fca-31e6-464c-ae5f-65ef0cf03e67",
   "metadata": {},
   "outputs": [
    {
     "data": {
      "text/plain": [
       "[4633400.0, 240.0, 0.06, 0.0]"
      ]
     },
     "execution_count": 48,
     "metadata": {},
     "output_type": "execute_result"
    }
   ],
   "source": [
    "parseval(file2_c[2])"
   ]
  },
  {
   "cell_type": "code",
   "execution_count": 51,
   "id": "d80c1649-3ca4-4a6c-a56d-33d6d0ff4a9b",
   "metadata": {},
   "outputs": [
    {
     "name": "stdout",
     "output_type": "stream",
     "text": [
      "[828400.0, 120.0, 0.11, 100000.0]\n",
      "[4633400.0, 240.0, 0.06, 0.0]\n",
      "[42900.0, 90.0, 0.08, 8900.0]\n",
      "[983000.0, 16.0, 0.14, 0.0]\n",
      "[15230.0, 48.0, 0.07, 4300.0]\n"
     ]
    }
   ],
   "source": [
    "for i in range(1,len(file2_c)):\n",
    "    print(parseval(file2_c[i]))"
   ]
  },
  {
   "cell_type": "code",
   "execution_count": 50,
   "id": "86a4f483-1cff-47fc-96de-db7792f63453",
   "metadata": {},
   "outputs": [
    {
     "data": {
      "text/plain": [
       "['amount,duration,rate,down_payment\\n',\n",
       " '828400,120,0.11,100000\\n',\n",
       " '4633400,240,0.06,\\n',\n",
       " '42900,90,0.08,8900\\n',\n",
       " '983000,16,0.14,\\n',\n",
       " '15230,48,0.07,4300']"
      ]
     },
     "execution_count": 50,
     "metadata": {},
     "output_type": "execute_result"
    }
   ],
   "source": [
    "file2_c"
   ]
  },
  {
   "cell_type": "code",
   "execution_count": 52,
   "id": "fc78fc11-c2ae-4523-a700-a4c32f289715",
   "metadata": {},
   "outputs": [
    {
     "data": {
      "text/plain": [
       "['.git',\n",
       " '.ipynb_checkpoints',\n",
       " '100_Numpy_exercises_with_hints_with_solutions.md',\n",
       " 'climate.txt',\n",
       " 'climate_yields.txt',\n",
       " 'firstlesson.ipynb',\n",
       " 'firstlesson.pdf',\n",
       " 'try',\n",
       " 'Untitled.ipynb']"
      ]
     },
     "execution_count": 52,
     "metadata": {},
     "output_type": "execute_result"
    }
   ],
   "source": [
    "os.listdir()"
   ]
  },
  {
   "cell_type": "code",
   "execution_count": 53,
   "id": "a85c36d2-a9c8-46a6-abbb-a4c020d90969",
   "metadata": {},
   "outputs": [],
   "source": [
    "def create_item_dict(values, headers):\n",
    "    result = {}\n",
    "    for value, header in zip(values, headers):\n",
    "        result[header] = value\n",
    "    return result"
   ]
  },
  {
   "cell_type": "code",
   "execution_count": 54,
   "id": "a3c7323d-288a-4f9c-b3da-9d1fb6ad23ce",
   "metadata": {},
   "outputs": [],
   "source": [
    "value1=parseval(file2_c[1])"
   ]
  },
  {
   "cell_type": "code",
   "execution_count": 56,
   "id": "848cbdf7-ed04-4aab-baaa-3aa98bea4b54",
   "metadata": {},
   "outputs": [
    {
     "data": {
      "text/plain": [
       "{'amount': 828400.0, 'duration': 120.0, 'rate': 0.11, 'down_payment': 100000.0}"
      ]
     },
     "execution_count": 56,
     "metadata": {},
     "output_type": "execute_result"
    }
   ],
   "source": [
    "create_item_dict(value1,header)"
   ]
  },
  {
   "cell_type": "code",
   "execution_count": 63,
   "id": "5b586057-4af8-4621-aa5c-afa5d165de39",
   "metadata": {},
   "outputs": [],
   "source": [
    "def read_csv(path):\n",
    "    result=[]\n",
    "    with open(path,mode='r') as file:\n",
    "        file_l=file.readlines()\n",
    "        headers=headpar(file_l[0])\n",
    "        for i in file_l[1:]:\n",
    "            value=parseval(i)\n",
    "            item_dict=create_item_dict(value,headers)\n",
    "            result.append(item_dict)\n",
    "    return result   \n",
    "            "
   ]
  },
  {
   "cell_type": "code",
   "execution_count": 65,
   "id": "d8994a33-6826-4a69-93bf-8c317029c9c4",
   "metadata": {},
   "outputs": [
    {
     "data": {
      "text/plain": [
       "[{'amount': 828400.0,\n",
       "  'duration': 120.0,\n",
       "  'rate': 0.11,\n",
       "  'down_payment': 100000.0},\n",
       " {'amount': 4633400.0, 'duration': 240.0, 'rate': 0.06, 'down_payment': 0.0},\n",
       " {'amount': 42900.0, 'duration': 90.0, 'rate': 0.08, 'down_payment': 8900.0},\n",
       " {'amount': 983000.0, 'duration': 16.0, 'rate': 0.14, 'down_payment': 0.0},\n",
       " {'amount': 15230.0, 'duration': 48.0, 'rate': 0.07, 'down_payment': 4300.0}]"
      ]
     },
     "execution_count": 65,
     "metadata": {},
     "output_type": "execute_result"
    }
   ],
   "source": [
    "read_csv('./try/loans2.txt')"
   ]
  },
  {
   "cell_type": "code",
   "execution_count": 66,
   "id": "6b009de2-ad18-4ce1-9a02-907849563e89",
   "metadata": {},
   "outputs": [],
   "source": [
    "import math\n",
    "\n",
    "def loan_emi(amount, duration, rate, down_payment=0):\n",
    "    \"\"\"Calculates the equal montly installment (EMI) for a loan.\n",
    "    \n",
    "    Arguments:\n",
    "        amount - Total amount to be spent (loan + down payment)\n",
    "        duration - Duration of the loan (in months)\n",
    "        rate - Rate of interest (monthly)\n",
    "        down_payment (optional) - Optional intial payment (deducted from amount)\n",
    "    \"\"\"\n",
    "    loan_amount = amount - down_payment\n",
    "    try:\n",
    "        emi = loan_amount * rate * ((1+rate)**duration) / (((1+rate)**duration)-1)\n",
    "    except ZeroDivisionError:\n",
    "        emi = loan_amount / duration\n",
    "    emi = math.ceil(emi)\n",
    "    return emi"
   ]
  },
  {
   "cell_type": "code",
   "execution_count": 68,
   "id": "3dd03611-dda5-47b3-bb36-ef84ea11b481",
   "metadata": {},
   "outputs": [],
   "source": [
    "loans2 = read_csv('./try/loans2.txt')"
   ]
  },
  {
   "cell_type": "code",
   "execution_count": 70,
   "id": "73832d13-893f-490f-9978-86530c58d26d",
   "metadata": {},
   "outputs": [
    {
     "data": {
      "text/plain": [
       "[{'amount': 828400.0,\n",
       "  'duration': 120.0,\n",
       "  'rate': 0.11,\n",
       "  'down_payment': 100000.0},\n",
       " {'amount': 4633400.0, 'duration': 240.0, 'rate': 0.06, 'down_payment': 0.0},\n",
       " {'amount': 42900.0, 'duration': 90.0, 'rate': 0.08, 'down_payment': 8900.0},\n",
       " {'amount': 983000.0, 'duration': 16.0, 'rate': 0.14, 'down_payment': 0.0},\n",
       " {'amount': 15230.0, 'duration': 48.0, 'rate': 0.07, 'down_payment': 4300.0}]"
      ]
     },
     "execution_count": 70,
     "metadata": {},
     "output_type": "execute_result"
    }
   ],
   "source": [
    "loans2"
   ]
  },
  {
   "cell_type": "code",
   "execution_count": 80,
   "id": "fd8c8f3e-39ab-4bd3-93b2-1c24cc3ff536",
   "metadata": {},
   "outputs": [],
   "source": [
    "for loan in loans2:\n",
    "    loan['emi'] = loan_emi(loan['amount'], \n",
    "                           loan['duration'], \n",
    "                           loan['rate']/12, # the CSV contains yearly rates\n",
    "                           loan['down_payment'])"
   ]
  },
  {
   "cell_type": "code",
   "execution_count": 81,
   "id": "1164c8c8-4c76-4699-8c6c-7b18a33799b1",
   "metadata": {},
   "outputs": [
    {
     "data": {
      "text/plain": [
       "[{'amount': 828400.0,\n",
       "  'duration': 120.0,\n",
       "  'rate': 0.11,\n",
       "  'down_payment': 100000.0,\n",
       "  'emi': 10034},\n",
       " {'amount': 4633400.0,\n",
       "  'duration': 240.0,\n",
       "  'rate': 0.06,\n",
       "  'down_payment': 0.0,\n",
       "  'emi': 33196},\n",
       " {'amount': 42900.0,\n",
       "  'duration': 90.0,\n",
       "  'rate': 0.08,\n",
       "  'down_payment': 8900.0,\n",
       "  'emi': 504},\n",
       " {'amount': 983000.0,\n",
       "  'duration': 16.0,\n",
       "  'rate': 0.14,\n",
       "  'down_payment': 0.0,\n",
       "  'emi': 67707},\n",
       " {'amount': 15230.0,\n",
       "  'duration': 48.0,\n",
       "  'rate': 0.07,\n",
       "  'down_payment': 4300.0,\n",
       "  'emi': 262}]"
      ]
     },
     "execution_count": 81,
     "metadata": {},
     "output_type": "execute_result"
    }
   ],
   "source": [
    "loans2"
   ]
  },
  {
   "cell_type": "code",
   "execution_count": 82,
   "id": "45e51b4a-6258-4060-ad6a-d2103b00ca8e",
   "metadata": {},
   "outputs": [],
   "source": [
    "def compute_emis(loans):\n",
    "    for loan in loans:\n",
    "        loan['emi'] = loan_emi(\n",
    "            loan['amount'], \n",
    "            loan['duration'], \n",
    "            loan['rate']/12, # the CSV contains yearly rates\n",
    "            loan['down_payment'])"
   ]
  },
  {
   "cell_type": "code",
   "execution_count": 83,
   "id": "da4640e2-2c79-4533-83d7-ac00e76d9f6c",
   "metadata": {},
   "outputs": [],
   "source": [
    "loan2=read_csv('./try/loans2.txt')"
   ]
  },
  {
   "cell_type": "code",
   "execution_count": 84,
   "id": "cdfe787f-3db0-492e-b209-a9709c88423e",
   "metadata": {},
   "outputs": [
    {
     "data": {
      "text/plain": [
       "[{'amount': 828400.0,\n",
       "  'duration': 120.0,\n",
       "  'rate': 0.11,\n",
       "  'down_payment': 100000.0},\n",
       " {'amount': 4633400.0, 'duration': 240.0, 'rate': 0.06, 'down_payment': 0.0},\n",
       " {'amount': 42900.0, 'duration': 90.0, 'rate': 0.08, 'down_payment': 8900.0},\n",
       " {'amount': 983000.0, 'duration': 16.0, 'rate': 0.14, 'down_payment': 0.0},\n",
       " {'amount': 15230.0, 'duration': 48.0, 'rate': 0.07, 'down_payment': 4300.0}]"
      ]
     },
     "execution_count": 84,
     "metadata": {},
     "output_type": "execute_result"
    }
   ],
   "source": [
    "loan2"
   ]
  },
  {
   "cell_type": "code",
   "execution_count": 90,
   "id": "81a0a4bc-86cf-4621-88d7-74628894c8a5",
   "metadata": {},
   "outputs": [],
   "source": [
    "compute_emis(loan2)\n"
   ]
  },
  {
   "cell_type": "code",
   "execution_count": 91,
   "id": "19073a8e-41a1-4cae-ad27-029038b8891f",
   "metadata": {},
   "outputs": [
    {
     "data": {
      "text/plain": [
       "[{'amount': 828400.0,\n",
       "  'duration': 120.0,\n",
       "  'rate': 0.11,\n",
       "  'down_payment': 100000.0,\n",
       "  'emi': 10034},\n",
       " {'amount': 4633400.0,\n",
       "  'duration': 240.0,\n",
       "  'rate': 0.06,\n",
       "  'down_payment': 0.0,\n",
       "  'emi': 33196},\n",
       " {'amount': 42900.0,\n",
       "  'duration': 90.0,\n",
       "  'rate': 0.08,\n",
       "  'down_payment': 8900.0,\n",
       "  'emi': 504},\n",
       " {'amount': 983000.0,\n",
       "  'duration': 16.0,\n",
       "  'rate': 0.14,\n",
       "  'down_payment': 0.0,\n",
       "  'emi': 67707},\n",
       " {'amount': 15230.0,\n",
       "  'duration': 48.0,\n",
       "  'rate': 0.07,\n",
       "  'down_payment': 4300.0,\n",
       "  'emi': 262}]"
      ]
     },
     "execution_count": 91,
     "metadata": {},
     "output_type": "execute_result"
    }
   ],
   "source": [
    "loan2"
   ]
  },
  {
   "cell_type": "code",
   "execution_count": 92,
   "id": "4bbd40b6-e916-4eb5-8691-85938a07aa94",
   "metadata": {},
   "outputs": [],
   "source": [
    "with open('./try/emis.txt','w') as fw:\n",
    "    for loan in loan2:\n",
    "        fw.write('{},{},{},{},{}\\n'.format(loan['amount'],loan['duration'],loan['rate'],loan['down_payment'],loan['emi']))"
   ]
  },
  {
   "cell_type": "code",
   "execution_count": 93,
   "id": "b7365499-728c-4d5b-85c7-9e28ff9eec14",
   "metadata": {},
   "outputs": [
    {
     "data": {
      "text/plain": [
       "['emis.txt', 'loans1.txt', 'loans2.txt', 'loans3.txt']"
      ]
     },
     "execution_count": 93,
     "metadata": {},
     "output_type": "execute_result"
    }
   ],
   "source": [
    "os.listdir('./try')"
   ]
  },
  {
   "cell_type": "code",
   "execution_count": 96,
   "id": "13e0beaf-814f-405a-a82a-15dbf04270cf",
   "metadata": {},
   "outputs": [
    {
     "name": "stdout",
     "output_type": "stream",
     "text": [
      "828400.0,120.0,0.11,100000.0,10034\n",
      "4633400.0,240.0,0.06,0.0,33196\n",
      "42900.0,90.0,0.08,8900.0,504\n",
      "983000.0,16.0,0.14,0.0,67707\n",
      "15230.0,48.0,0.07,4300.0,262\n",
      "\n"
     ]
    }
   ],
   "source": [
    "with open('./try/emis.txt','r') as f:\n",
    "    f1=f.read()\n",
    "    print(f1)"
   ]
  },
  {
   "cell_type": "code",
   "execution_count": 102,
   "id": "194dc12f-4d9b-42f1-b81b-6ae7dc3ea3a8",
   "metadata": {},
   "outputs": [],
   "source": [
    "def write_csv(items,path):\n",
    "    with open(path,'w') as f:\n",
    "        if len(items)==0:\n",
    "            return\n",
    "            \n",
    "        headers=list(items[0].keys())\n",
    "        f.write(','.join(headers)+'\\n')\n",
    "\n",
    "        for item in items:\n",
    "            values=[]\n",
    "            for header in headers:\n",
    "                values.append(str(item.get(header,\"\")))\n",
    "            f.write(','.join(values)+'\\n')\n",
    "                "
   ]
  },
  {
   "cell_type": "code",
   "execution_count": 98,
   "id": "f70db6e2-f0bf-4c9d-b67f-e8d2b2fa305f",
   "metadata": {},
   "outputs": [],
   "source": [
    "loan3=read_csv('./try/loans3.txt')"
   ]
  },
  {
   "cell_type": "code",
   "execution_count": 99,
   "id": "c7ade1bc-4a48-444f-ad24-63231d462128",
   "metadata": {},
   "outputs": [],
   "source": [
    "compute_emis(loan3)"
   ]
  },
  {
   "cell_type": "code",
   "execution_count": 100,
   "id": "ebf62e24-f002-457f-966a-97e10641dcf9",
   "metadata": {},
   "outputs": [
    {
     "data": {
      "text/plain": [
       "[{'amount': 45230.0,\n",
       "  'duration': 48.0,\n",
       "  'rate': 0.07,\n",
       "  'down_payment': 4300.0,\n",
       "  'emi': 981},\n",
       " {'amount': 883000.0,\n",
       "  'duration': 16.0,\n",
       "  'rate': 0.14,\n",
       "  'down_payment': 0.0,\n",
       "  'emi': 60819},\n",
       " {'amount': 100000.0,\n",
       "  'duration': 12.0,\n",
       "  'rate': 0.1,\n",
       "  'down_payment': 0.0,\n",
       "  'emi': 8792},\n",
       " {'amount': 728400.0,\n",
       "  'duration': 120.0,\n",
       "  'rate': 0.12,\n",
       "  'down_payment': 100000.0,\n",
       "  'emi': 9016},\n",
       " {'amount': 3637400.0,\n",
       "  'duration': 240.0,\n",
       "  'rate': 0.06,\n",
       "  'down_payment': 0.0,\n",
       "  'emi': 26060},\n",
       " {'amount': 82900.0,\n",
       "  'duration': 90.0,\n",
       "  'rate': 0.07,\n",
       "  'down_payment': 8900.0,\n",
       "  'emi': 1060},\n",
       " {'amount': 316000.0,\n",
       "  'duration': 16.0,\n",
       "  'rate': 0.13,\n",
       "  'down_payment': 0.0,\n",
       "  'emi': 21618},\n",
       " {'amount': 15230.0,\n",
       "  'duration': 48.0,\n",
       "  'rate': 0.08,\n",
       "  'down_payment': 4300.0,\n",
       "  'emi': 267},\n",
       " {'amount': 991360.0,\n",
       "  'duration': 99.0,\n",
       "  'rate': 0.08,\n",
       "  'down_payment': 0.0,\n",
       "  'emi': 13712},\n",
       " {'amount': 323000.0,\n",
       "  'duration': 27.0,\n",
       "  'rate': 0.09,\n",
       "  'down_payment': 4720010000.0,\n",
       "  'emi': -193751447},\n",
       " {'amount': 528400.0,\n",
       "  'duration': 120.0,\n",
       "  'rate': 0.11,\n",
       "  'down_payment': 100000.0,\n",
       "  'emi': 5902},\n",
       " {'amount': 8633400.0,\n",
       "  'duration': 240.0,\n",
       "  'rate': 0.06,\n",
       "  'down_payment': 0.0,\n",
       "  'emi': 61853},\n",
       " {'amount': 12900.0,\n",
       "  'duration': 90.0,\n",
       "  'rate': 0.08,\n",
       "  'down_payment': 8900.0,\n",
       "  'emi': 60}]"
      ]
     },
     "execution_count": 100,
     "metadata": {},
     "output_type": "execute_result"
    }
   ],
   "source": [
    "loan3"
   ]
  },
  {
   "cell_type": "code",
   "execution_count": 103,
   "id": "af98b92a-251a-4fe1-a2ef-86e377ea0028",
   "metadata": {},
   "outputs": [],
   "source": [
    "write_csv(loan3,'./try/emis3.txt')"
   ]
  },
  {
   "cell_type": "code",
   "execution_count": 1,
   "id": "bddf0422-059d-4918-a690-b91012f8bd9b",
   "metadata": {},
   "outputs": [
    {
     "ename": "NameError",
     "evalue": "name 'os' is not defined",
     "output_type": "error",
     "traceback": [
      "\u001b[1;31m---------------------------------------------------------------------------\u001b[0m",
      "\u001b[1;31mNameError\u001b[0m                                 Traceback (most recent call last)",
      "Cell \u001b[1;32mIn[1], line 1\u001b[0m\n\u001b[1;32m----> 1\u001b[0m \u001b[43mos\u001b[49m\u001b[38;5;241m.\u001b[39mgetcwd()\n",
      "\u001b[1;31mNameError\u001b[0m: name 'os' is not defined"
     ]
    }
   ],
   "source": [
    "os.getcwd()"
   ]
  },
  {
   "cell_type": "code",
   "execution_count": 2,
   "id": "2d548d74-c9a0-4b9c-a2cf-df642871fdc3",
   "metadata": {},
   "outputs": [],
   "source": [
    "import os"
   ]
  },
  {
   "cell_type": "code",
   "execution_count": 3,
   "id": "90cbcf33-1f25-4d73-96c2-5e5f1475e37c",
   "metadata": {},
   "outputs": [
    {
     "data": {
      "text/plain": [
       "'C:\\\\Users\\\\Hewlett-Packard\\\\Desktop\\\\New folder\\\\data_analysis\\\\Numpy'"
      ]
     },
     "execution_count": 3,
     "metadata": {},
     "output_type": "execute_result"
    }
   ],
   "source": [
    "os.getcwd()"
   ]
  },
  {
   "cell_type": "code",
   "execution_count": 4,
   "id": "9d4ab134-7d26-4117-9c3b-70495111971f",
   "metadata": {},
   "outputs": [
    {
     "data": {
      "text/plain": [
       "['.git',\n",
       " '.ipynb_checkpoints',\n",
       " '100_Numpy_exercises_with_hints_with_solutions.md',\n",
       " 'climate.txt',\n",
       " 'climate_yields.txt',\n",
       " 'file_handling.ipynb',\n",
       " 'firstlesson.ipynb',\n",
       " 'firstlesson.pdf',\n",
       " 'try']"
      ]
     },
     "execution_count": 4,
     "metadata": {},
     "output_type": "execute_result"
    }
   ],
   "source": [
    "os.listdir()"
   ]
  },
  {
   "cell_type": "code",
   "execution_count": 5,
   "id": "3ffdedf3-9966-4cd6-9929-eddef10e1d18",
   "metadata": {},
   "outputs": [],
   "source": [
    "os.makedirs('./try1')"
   ]
  },
  {
   "cell_type": "code",
   "execution_count": 6,
   "id": "480cab07-d2fa-4020-8e9a-fe14d97e68b0",
   "metadata": {},
   "outputs": [],
   "source": [
    "url2 = 'https://gist.githubusercontent.com/aakashns/257f6e6c8719c17d0e498ea287d1a386/raw/7def9ef4234ddf0bc82f855ad67dac8b971852ef/loans2.txt'\n"
   ]
  },
  {
   "cell_type": "code",
   "execution_count": 8,
   "id": "ab20d5a2-64e8-4b9d-96b2-eb25bdc713ff",
   "metadata": {},
   "outputs": [],
   "source": [
    "from urllib.request import urlretrieve"
   ]
  },
  {
   "cell_type": "code",
   "execution_count": 9,
   "id": "4c1bd6da-e2b2-4683-bc7d-15ade22bedd0",
   "metadata": {},
   "outputs": [
    {
     "data": {
      "text/plain": [
       "('./try1/l1.txt', <http.client.HTTPMessage at 0x2bb4568f990>)"
      ]
     },
     "execution_count": 9,
     "metadata": {},
     "output_type": "execute_result"
    }
   ],
   "source": [
    "urlretrieve(url2,'./try1/l1.txt')"
   ]
  },
  {
   "cell_type": "code",
   "execution_count": 14,
   "id": "0d8f4c36-dbdb-4d72-b1ff-dc949ffa47fc",
   "metadata": {},
   "outputs": [],
   "source": [
    "file1=open('./try1/l1.txt',mode='r')"
   ]
  },
  {
   "cell_type": "code",
   "execution_count": 15,
   "id": "427d2529-ba0b-4871-a98a-a729e71adaf7",
   "metadata": {},
   "outputs": [
    {
     "name": "stdout",
     "output_type": "stream",
     "text": [
      "['amount,duration,rate,down_payment\\n', '828400,120,0.11,100000\\n', '4633400,240,0.06,\\n', '42900,90,0.08,8900\\n', '983000,16,0.14,\\n', '15230,48,0.07,4300']\n"
     ]
    }
   ],
   "source": [
    "file1_c=file1.readlines()\n",
    "print(file1_c)"
   ]
  },
  {
   "cell_type": "code",
   "execution_count": 19,
   "id": "71df89c5-1ede-48ce-8e8f-7023937a12b0",
   "metadata": {},
   "outputs": [
    {
     "ename": "AttributeError",
     "evalue": "'list' object has no attribute 'strip'",
     "output_type": "error",
     "traceback": [
      "\u001b[1;31m---------------------------------------------------------------------------\u001b[0m",
      "\u001b[1;31mAttributeError\u001b[0m                            Traceback (most recent call last)",
      "Cell \u001b[1;32mIn[19], line 1\u001b[0m\n\u001b[1;32m----> 1\u001b[0m \u001b[43mfile1_c\u001b[49m\u001b[38;5;241;43m.\u001b[39;49m\u001b[43mstrip\u001b[49m\n",
      "\u001b[1;31mAttributeError\u001b[0m: 'list' object has no attribute 'strip'"
     ]
    }
   ],
   "source": [
    "file1_c.strip"
   ]
  },
  {
   "cell_type": "code",
   "execution_count": 20,
   "id": "519b2968-6e11-4ee3-938b-52f1f499a6d0",
   "metadata": {},
   "outputs": [],
   "source": [
    "file1.close()"
   ]
  },
  {
   "cell_type": "code",
   "execution_count": 22,
   "id": "882420d6-274e-45c5-a449-ab830b1d175f",
   "metadata": {},
   "outputs": [
    {
     "name": "stdout",
     "output_type": "stream",
     "text": [
      "['amount,duration,rate,down_payment\\n', '828400,120,0.11,100000\\n', '4633400,240,0.06,\\n', '42900,90,0.08,8900\\n', '983000,16,0.14,\\n', '15230,48,0.07,4300']\n"
     ]
    }
   ],
   "source": [
    "with open('./try1/l1.txt',mode='r') as f1:\n",
    "    f1_c=f1.readlines()\n",
    "    print(f1_c)"
   ]
  },
  {
   "cell_type": "code",
   "execution_count": 25,
   "id": "7a7f3a29-cd5e-4791-9acd-dfe3bf8d0ed6",
   "metadata": {},
   "outputs": [],
   "source": [
    "def parse_headers(data_line):\n",
    "    return data_line.strip().split(',')"
   ]
  },
  {
   "cell_type": "code",
   "execution_count": 26,
   "id": "10e1f2e4-50dd-4e3f-9782-06e99cf802df",
   "metadata": {},
   "outputs": [
    {
     "data": {
      "text/plain": [
       "['amount', 'duration', 'rate', 'down_payment']"
      ]
     },
     "execution_count": 26,
     "metadata": {},
     "output_type": "execute_result"
    }
   ],
   "source": [
    "parse_headers(f1_c[0])"
   ]
  },
  {
   "cell_type": "code",
   "execution_count": 27,
   "id": "53d8587b-237b-43eb-9a35-148f65fd9b8c",
   "metadata": {},
   "outputs": [],
   "source": [
    "def parse_value(data_line):\n",
    "    value=[]\n",
    "    for i in data_line.strip().split(','):\n",
    "        if i==\"\":\n",
    "            value.append(0)\n",
    "        else:\n",
    "            value.append(i)\n",
    "    return value\n",
    "        "
   ]
  },
  {
   "cell_type": "code",
   "execution_count": 28,
   "id": "7293a12b-a949-4b72-a336-60139c4fcdfb",
   "metadata": {},
   "outputs": [
    {
     "data": {
      "text/plain": [
       "['828400', '120', '0.11', '100000']"
      ]
     },
     "execution_count": 28,
     "metadata": {},
     "output_type": "execute_result"
    }
   ],
   "source": [
    "parse_value(f1_c[1])"
   ]
  },
  {
   "cell_type": "code",
   "execution_count": 34,
   "id": "76e9edc4-700c-40d0-9d5a-15b2948879e3",
   "metadata": {},
   "outputs": [],
   "source": [
    "def create_dic(header,value):\n",
    "    result={}\n",
    "    for x,y in zip(header,value):\n",
    "        result[x]=y\n",
    "    return result"
   ]
  },
  {
   "cell_type": "code",
   "execution_count": 30,
   "id": "e4dfa1f4-873f-487e-8917-21de99279edb",
   "metadata": {},
   "outputs": [],
   "source": [
    "header1=parse_headers(f1_c[0])"
   ]
  },
  {
   "cell_type": "code",
   "execution_count": 31,
   "id": "65f05dfd-1233-4376-904b-03f3e23e6cec",
   "metadata": {},
   "outputs": [],
   "source": [
    "value1=parse_value(f1_c[1])"
   ]
  },
  {
   "cell_type": "code",
   "execution_count": 35,
   "id": "e1f6655b-53fb-4156-a980-d9bc33054f5d",
   "metadata": {},
   "outputs": [
    {
     "data": {
      "text/plain": [
       "{'amount': '828400',\n",
       " 'duration': '120',\n",
       " 'rate': '0.11',\n",
       " 'down_payment': '100000'}"
      ]
     },
     "execution_count": 35,
     "metadata": {},
     "output_type": "execute_result"
    }
   ],
   "source": [
    "create_dic(header1,value1)"
   ]
  },
  {
   "cell_type": "code",
   "execution_count": 44,
   "id": "c7c222ec-0bf2-46ee-b381-d969836c4b14",
   "metadata": {},
   "outputs": [],
   "source": [
    "def readcsv(path):\n",
    "    result=[]\n",
    "    with open(path,mode='r') as f:\n",
    "        f_c=f.readlines()\n",
    "        head=parse_headers(f_c[0])\n",
    "        \n",
    "        for i in f_c[1:]:\n",
    "            \n",
    "            v=parse_value(i)\n",
    "            r=create_dic(head,v)\n",
    "            result.append(r)\n",
    "    return result"
   ]
  },
  {
   "cell_type": "code",
   "execution_count": 45,
   "id": "e56f1a4c-f034-46ef-965a-e91602ed62ce",
   "metadata": {},
   "outputs": [
    {
     "data": {
      "text/plain": [
       "[{'amount': '828400',\n",
       "  'duration': '120',\n",
       "  'rate': '0.11',\n",
       "  'down_payment': '100000'},\n",
       " {'amount': '4633400', 'duration': '240', 'rate': '0.06', 'down_payment': 0},\n",
       " {'amount': '42900', 'duration': '90', 'rate': '0.08', 'down_payment': '8900'},\n",
       " {'amount': '983000', 'duration': '16', 'rate': '0.14', 'down_payment': 0},\n",
       " {'amount': '15230', 'duration': '48', 'rate': '0.07', 'down_payment': '4300'}]"
      ]
     },
     "execution_count": 45,
     "metadata": {},
     "output_type": "execute_result"
    }
   ],
   "source": [
    "readcsv('./try1/l1.txt')"
   ]
  },
  {
   "cell_type": "code",
   "execution_count": null,
   "id": "4b734191-d906-4be5-8b9d-e5135ee5eb96",
   "metadata": {},
   "outputs": [],
   "source": []
  }
 ],
 "metadata": {
  "kernelspec": {
   "display_name": "Python 3 (ipykernel)",
   "language": "python",
   "name": "python3"
  },
  "language_info": {
   "codemirror_mode": {
    "name": "ipython",
    "version": 3
   },
   "file_extension": ".py",
   "mimetype": "text/x-python",
   "name": "python",
   "nbconvert_exporter": "python",
   "pygments_lexer": "ipython3",
   "version": "3.11.3"
  }
 },
 "nbformat": 4,
 "nbformat_minor": 5
}
